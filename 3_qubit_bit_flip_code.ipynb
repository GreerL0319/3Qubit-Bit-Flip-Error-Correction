{
 "cells": [
  {
   "cell_type": "code",
   "execution_count": 1,
   "id": "860ccdf7-685f-4c33-b770-c1bd9d031738",
   "metadata": {},
   "outputs": [],
   "source": [
    "from qiskit import QuantumCircuit, transpile\n",
    "from qiskit.circuit import ClassicalRegister,QuantumRegister, IfElseOp, Delay\n",
    "from qiskit.visualization import plot_histogram, plot_bloch_multivector, plot_bloch_vector\n",
    "from qiskit_aer import AerSimulator\n",
    "# Import from Qiskit Aer noise module\n",
    "from qiskit_aer.noise import (NoiseModel, QuantumError, ReadoutError,\n",
    "    pauli_error, depolarizing_error, thermal_relaxation_error)\n",
    "import numpy as np\n",
    "from qiskit.quantum_info import Statevector, DensityMatrix, state_fidelity\n",
    "import random\n",
    "from qiskit.result.utils import marginal_counts\n",
    "from qiskit import assemble\n"
   ]
  },
  {
   "cell_type": "code",
   "execution_count": 2,
   "id": "b502e3d5-731f-418d-afe7-fd823d98e6a4",
   "metadata": {},
   "outputs": [],
   "source": [
    "p_bitflip_cx = 0.1\n",
    "\n",
    "bitflip_cx_error = pauli_error([\n",
    "    ('II', 1 - p_bitflip_cx),   # no error\n",
    "    ('IX', p_bitflip_cx / 2),   # flip target qubit\n",
    "    ('XI', p_bitflip_cx / 2),   # flip control qubit\n",
    "    # Optional: you could add ('XX', p), but only if your model wants that\n",
    "])\n",
    "\n",
    "noise_model = NoiseModel()\n",
    "noise_model.add_all_qubit_quantum_error(bitflip_cx_error, ['cx'])\n",
    "\n",
    "bitflip_error = pauli_error([('X', p_bitflip_cx), ('I', 1 - p_bitflip_cx)])\n",
    "noise_model.add_all_qubit_quantum_error(bitflip_error, ['x'])\n",
    "\n",
    "# Set up the simulator\n",
    "backend_noise = AerSimulator(method='density_matrix', noise_model=noise_model)"
   ]
  },
  {
   "cell_type": "code",
   "execution_count": 3,
   "id": "ba73e0a6-c5cf-483d-94e8-47a1c7013717",
   "metadata": {},
   "outputs": [
    {
     "data": {
      "text/plain": [
       "<qiskit.circuit.instructionset.InstructionSet at 0x7ff15048e730>"
      ]
     },
     "execution_count": 3,
     "metadata": {},
     "output_type": "execute_result"
    }
   ],
   "source": [
    "#this code incorporates majority vote recovery method\n",
    "\n",
    "q=QuantumRegister(3,'q')\n",
    "c=ClassicalRegister(1,'c')\n",
    "majority_vote_circuit=QuantumCircuit(q,c)\n",
    "\n",
    "#encoding\n",
    "majority_vote_circuit.cx(q[0],q[1])\n",
    "majority_vote_circuit.cx(q[0],q[2])\n",
    "majority_vote_circuit.barrier()\n",
    "\n",
    "# #decoding\n",
    "# majority_vote_circuit.cx(q[1],q[0])\n",
    "# majority_vote_circuit.cx(q[2],q[0])\n",
    "# majority_vote_circuit.barrier()\n",
    "\n",
    "#apply tofolli gate\n",
    "majority_vote_circuit.ccx(q[2],q[1],q[0])\n",
    "majority_vote_circuit.barrier()\n",
    "\n",
    "#measure\n",
    "majority_vote_circuit.measure(q[0],c[0])\n",
    "majority_vote_circuit.barrier()\n",
    "\n",
    "\n",
    "majority_vote_circuit.save_density_matrix()\n"
   ]
  },
  {
   "cell_type": "code",
   "execution_count": 4,
   "id": "a1a37c0f-9c58-4ebe-ae64-833db04ad4c4",
   "metadata": {},
   "outputs": [
    {
     "data": {
      "text/html": [
       "<pre style=\"word-wrap: normal;white-space: pre;background: #fff0;line-height: 1.1;font-family: &quot;Courier New&quot;,Courier,monospace\">                ░ ┌───┐ ░ ┌─┐ ░  density_matrix \n",
       "q_0: ──■────■───░─┤ X ├─░─┤M├─░────────░────────\n",
       "     ┌─┴─┐  │   ░ └─┬─┘ ░ └╥┘ ░        ░        \n",
       "q_1: ┤ X ├──┼───░───■───░──╫──░────────░────────\n",
       "     └───┘┌─┴─┐ ░   │   ░  ║  ░        ░        \n",
       "q_2: ─────┤ X ├─░───■───░──╫──░────────░────────\n",
       "          └───┘ ░       ░  ║  ░        ░        \n",
       "c: 1/══════════════════════╩════════════════════\n",
       "                           0                    </pre>"
      ],
      "text/plain": [
       "                ░ ┌───┐ ░ ┌─┐ ░  density_matrix \n",
       "q_0: ──■────■───░─┤ X ├─░─┤M├─░────────░────────\n",
       "     ┌─┴─┐  │   ░ └─┬─┘ ░ └╥┘ ░        ░        \n",
       "q_1: ┤ X ├──┼───░───■───░──╫──░────────░────────\n",
       "     └───┘┌─┴─┐ ░   │   ░  ║  ░        ░        \n",
       "q_2: ─────┤ X ├─░───■───░──╫──░────────░────────\n",
       "          └───┘ ░       ░  ║  ░        ░        \n",
       "c: 1/══════════════════════╩════════════════════\n",
       "                           0                    "
      ]
     },
     "execution_count": 4,
     "metadata": {},
     "output_type": "execute_result"
    }
   ],
   "source": [
    "majority_vote_circuit.draw()\n"
   ]
  },
  {
   "cell_type": "code",
   "execution_count": 5,
   "id": "4ee86f7e-0363-455d-abcf-42b7e7ba4c3d",
   "metadata": {},
   "outputs": [
    {
     "name": "stdout",
     "output_type": "stream",
     "text": [
      "Fidelity to ideal |000>: 0.5286\n"
     ]
    },
    {
     "data": {
      "image/png": "[encoded data removed]",
      "text/plain": [
       "<Figure size 640x480 with 1 Axes>"
      ]
     },
     "execution_count": 5,
     "metadata": {},
     "output_type": "execute_result"
    }
   ],
   "source": [
    "majority_vote_circuit_noise = transpile(\n",
    "    majority_vote_circuit,\n",
    "    backend=backend_noise,\n",
    "    basis_gates=backend_noise.configuration().basis_gates\n",
    ")\n",
    "\n",
    "result = backend_noise.run(majority_vote_circuit_noise, shots=2048).result()\n",
    "\n",
    "rho_noisy = result.data().get('density_matrix')\n",
    "rho = DensityMatrix(rho_noisy)  # Already 3-qubit state\n",
    "\n",
    "ideal_state = DensityMatrix.from_label('000')\n",
    "fidelity = state_fidelity(rho, ideal_state)\n",
    "\n",
    "print(f\"Fidelity to ideal |000>: {fidelity:.4f}\")\n",
    "\n",
    "# Run the circuit\n",
    "counts = result.get_counts()\n",
    "\n",
    "# View the outcome\n",
    "plot_histogram(counts)"
   ]
  },
  {
   "cell_type": "code",
   "execution_count": 6,
   "id": "95333f19-6b34-440c-b954-0b06a063078f",
   "metadata": {},
   "outputs": [
    {
     "data": {
      "text/plain": [
       "<qiskit.circuit.instructionset.InstructionSet at 0x7ff149ddf430>"
      ]
     },
     "execution_count": 6,
     "metadata": {},
     "output_type": "execute_result"
    }
   ],
   "source": [
    "#using ancillas method 1:\n",
    "q2=QuantumRegister(3,'q')\n",
    "a2=QuantumRegister(2,'a')#two ancillaries\n",
    "c2=ClassicalRegister(3,'c')\n",
    "#ca=ClassicalRegister(2,'ca')#ancilla classicical\n",
    "syndrome_extraction_circuit=QuantumCircuit(q2,c2,a2)\n",
    "\n",
    "#encoding\n",
    "syndrome_extraction_circuit.cx(q2[0],q2[1])\n",
    "syndrome_extraction_circuit.cx(q2[0],q2[2])\n",
    "syndrome_extraction_circuit.barrier()\n",
    "\n",
    "#ancilla checking\n",
    "syndrome_extraction_circuit.cx(q2[0],a2[0])\n",
    "syndrome_extraction_circuit.cx(q2[1],a2[0])\n",
    "syndrome_extraction_circuit.cx(q2[1],a2[1])\n",
    "syndrome_extraction_circuit.cx(q2[2],a2[1])\n",
    "syndrome_extraction_circuit.barrier()\n",
    "\n",
    "# #measure ancillas\n",
    "# syndrome_extraction_circuit.measure(a2[0], ca[0])\n",
    "# syndrome_extraction_circuit.measure(a2[1], ca[1])\n",
    "# syndrome_extraction_circuit.barrier()\n",
    "\n",
    "\n",
    "# with syndrome_extraction_circuit.switch(ca) as case:\n",
    "#     with case(0b10):\n",
    "#         syndrome_extraction_circuit.x(q2[2])\n",
    "#     with case(0b11):\n",
    "#         syndrome_extraction_circuit.x(q2[1])\n",
    "#     with case(0b01):\n",
    "#         syndrome_extraction_circuit.x(q2[0])\n",
    "\n",
    "#LOGICAL OPERATIONS FOR FLIPPING PROPER BIT\n",
    "\n",
    "#11\n",
    "#Q1=A2 AND A1\n",
    "syndrome_extraction_circuit.ccx(a2[0],a2[1],q2[1])\n",
    "syndrome_extraction_circuit.barrier()\n",
    "\n",
    "#01\n",
    "#Q0=A0! AND A1\n",
    "syndrome_extraction_circuit.x(a2[0])#not ca[0]\n",
    "syndrome_extraction_circuit.ccx(a2[0],a2[1],q2[0])\n",
    "syndrome_extraction_circuit.barrier()\n",
    "\n",
    "#10\n",
    "#Q2=A0 && !A1\n",
    "syndrome_extraction_circuit.x(a2[0])#ca[0]\n",
    "syndrome_extraction_circuit.x(a2[1])#not ca[1]\n",
    "syndrome_extraction_circuit.ccx(a2[0],a2[1],q2[2])\n",
    "syndrome_extraction_circuit.barrier()\n",
    "\n",
    "\n",
    "#decoding\n",
    "syndrome_extraction_circuit.cx(q2[1],q2[0])\n",
    "syndrome_extraction_circuit.cx(q2[2],q2[0])\n",
    "syndrome_extraction_circuit.barrier()\n",
    "\n",
    "\n",
    "#q2[0] actually needed ot be measured but just to be sure\n",
    "syndrome_extraction_circuit.measure(q2,c2)\n",
    "\n",
    "syndrome_extraction_circuit.save_density_matrix()\n"
   ]
  },
  {
   "cell_type": "code",
   "execution_count": 7,
   "id": "3b16f592-4e7c-4a91-a443-8a8cc4a2fa8f",
   "metadata": {},
   "outputs": [
    {
     "data": {
      "text/html": [
       "<pre style=\"word-wrap: normal;white-space: pre;background: #fff0;line-height: 1.1;font-family: &quot;Courier New&quot;,Courier,monospace\">                ░                      ░       ░      ┌───┐ ░            ░ »\n",
       "q_0: ──■────■───░───■──────────────────░───────░──────┤ X ├─░────────────░─»\n",
       "     ┌─┴─┐  │   ░   │                  ░ ┌───┐ ░      └─┬─┘ ░            ░ »\n",
       "q_1: ┤ X ├──┼───░───┼────■────■────────░─┤ X ├─░────────┼───░────────────░─»\n",
       "     └───┘┌─┴─┐ ░   │    │    │        ░ └─┬─┘ ░        │   ░      ┌───┐ ░ »\n",
       "q_2: ─────┤ X ├─░───┼────┼────┼────■───░───┼───░────────┼───░──────┤ X ├─░─»\n",
       "          └───┘ ░ ┌─┴─┐┌─┴─┐  │    │   ░   │   ░ ┌───┐  │   ░ ┌───┐└─┬─┘ ░ »\n",
       "a_0: ───────────░─┤ X ├┤ X ├──┼────┼───░───■───░─┤ X ├──■───░─┤ X ├──■───░─»\n",
       "                ░ └───┘└───┘┌─┴─┐┌─┴─┐ ░   │   ░ └───┘  │   ░ ├───┤  │   ░ »\n",
       "a_1: ───────────░───────────┤ X ├┤ X ├─░───■───░────────■───░─┤ X ├──■───░─»\n",
       "                ░           └───┘└───┘ ░       ░            ░ └───┘      ░ »\n",
       "c: 3/══════════════════════════════════════════════════════════════════════»\n",
       "                                                                           »\n",
       "«     ┌───┐┌───┐ ░ ┌─┐       density_matrix \n",
       "«q_0: ┤ X ├┤ X ├─░─┤M├─────────────░────────\n",
       "«     └─┬─┘└─┬─┘ ░ └╥┘┌─┐          ░        \n",
       "«q_1: ──■────┼───░──╫─┤M├──────────░────────\n",
       "«            │   ░  ║ └╥┘┌─┐       ░        \n",
       "«q_2: ───────■───░──╫──╫─┤M├───────░────────\n",
       "«                ░  ║  ║ └╥┘       ░        \n",
       "«a_0: ───────────░──╫──╫──╫────────░────────\n",
       "«                ░  ║  ║  ║        ░        \n",
       "«a_1: ───────────░──╫──╫──╫────────░────────\n",
       "«                ░  ║  ║  ║        ░        \n",
       "«c: 3/══════════════╩══╩══╩═════════════════\n",
       "«                   0  1  2                 </pre>"
      ],
      "text/plain": [
       "                ░                      ░       ░      ┌───┐ ░            ░ »\n",
       "q_0: ──■────■───░───■──────────────────░───────░──────┤ X ├─░────────────░─»\n",
       "     ┌─┴─┐  │   ░   │                  ░ ┌───┐ ░      └─┬─┘ ░            ░ »\n",
       "q_1: ┤ X ├──┼───░───┼────■────■────────░─┤ X ├─░────────┼───░────────────░─»\n",
       "     └───┘┌─┴─┐ ░   │    │    │        ░ └─┬─┘ ░        │   ░      ┌───┐ ░ »\n",
       "q_2: ─────┤ X ├─░───┼────┼────┼────■───░───┼───░────────┼───░──────┤ X ├─░─»\n",
       "          └───┘ ░ ┌─┴─┐┌─┴─┐  │    │   ░   │   ░ ┌───┐  │   ░ ┌───┐└─┬─┘ ░ »\n",
       "a_0: ───────────░─┤ X ├┤ X ├──┼────┼───░───■───░─┤ X ├──■───░─┤ X ├──■───░─»\n",
       "                ░ └───┘└───┘┌─┴─┐┌─┴─┐ ░   │   ░ └───┘  │   ░ ├───┤  │   ░ »\n",
       "a_1: ───────────░───────────┤ X ├┤ X ├─░───■───░────────■───░─┤ X ├──■───░─»\n",
       "                ░           └───┘└───┘ ░       ░            ░ └───┘      ░ »\n",
       "c: 3/══════════════════════════════════════════════════════════════════════»\n",
       "                                                                           »\n",
       "«     ┌───┐┌───┐ ░ ┌─┐       density_matrix \n",
       "«q_0: ┤ X ├┤ X ├─░─┤M├─────────────░────────\n",
       "«     └─┬─┘└─┬─┘ ░ └╥┘┌─┐          ░        \n",
       "«q_1: ──■────┼───░──╫─┤M├──────────░────────\n",
       "«            │   ░  ║ └╥┘┌─┐       ░        \n",
       "«q_2: ───────■───░──╫──╫─┤M├───────░────────\n",
       "«                ░  ║  ║ └╥┘       ░        \n",
       "«a_0: ───────────░──╫──╫──╫────────░────────\n",
       "«                ░  ║  ║  ║        ░        \n",
       "«a_1: ───────────░──╫──╫──╫────────░────────\n",
       "«                ░  ║  ║  ║        ░        \n",
       "«c: 3/══════════════╩══╩══╩═════════════════\n",
       "«                   0  1  2                 "
      ]
     },
     "execution_count": 7,
     "metadata": {},
     "output_type": "execute_result"
    }
   ],
   "source": [
    "syndrome_extraction_circuit.draw()"
   ]
  },
  {
   "cell_type": "code",
   "execution_count": 8,
   "id": "cf3006e6-8c8a-4194-9caa-558f90ac5c28",
   "metadata": {},
   "outputs": [
    {
     "data": {
      "image/png": "[encoded data removed]",
      "text/plain": [
       "<Figure size 640x480 with 1 Axes>"
      ]
     },
     "execution_count": 8,
     "metadata": {},
     "output_type": "execute_result"
    }
   ],
   "source": [
    "syndrome_extraction_circuit_noise = transpile(\n",
    "    syndrome_extraction_circuit,\n",
    "    backend=backend_noise,\n",
    "    basis_gates=backend_noise.configuration().basis_gates\n",
    ")\n",
    "\n",
    "# Run the circuit\n",
    "result = backend_noise.run(syndrome_extraction_circuit_noise, shots=2048).result()\n",
    "counts = result.get_counts()\n",
    "\n",
    "# View the outcome\n",
    "marginalized = marginal_counts(counts, indices=[0,1,2])#remove ancilla values\n",
    "plot_histogram(marginalized)\n",
    "\n",
    "\n",
    "\n"
   ]
  },
  {
   "cell_type": "code",
   "execution_count": 9,
   "id": "ea8da594-6d33-47a1-b7ea-2c73b89c72d1",
   "metadata": {},
   "outputs": [
    {
     "data": {
      "image/png": "[encoded data removed]",
      "text/plain": [
       "<Figure size 640x480 with 1 Axes>"
      ]
     },
     "execution_count": 9,
     "metadata": {},
     "output_type": "execute_result"
    }
   ],
   "source": [
    "marginalized = marginal_counts(counts, indices=[2])#remove ancilla values\n",
    "plot_histogram(marginalized)\n"
   ]
  },
  {
   "cell_type": "code",
   "execution_count": 10,
   "id": "4da4f6be-fdb1-45e4-ae45-028512022248",
   "metadata": {},
   "outputs": [],
   "source": [
    "#THE ABOVE APPROACH IS FLAWED BECAUSE IT DOES NOT PROPERLY EMULATE NOISE.\n",
    "#IN IT, ALL GATES HAVE A CHANCE OF NOISE WHEN REALLY THE CIRCUIT SHOULD BE MOSTLY NOISY DURING\n",
    "#TRANSMISSION. ONCE RECEIVED ODDS OF NOISE SHOULD BE LOWERED.\n",
    "#BECAUSE OF THIS THERE ARE BIT FLIPS OCCURRING ON THE CORRECTION LOGIC WHICH DEFEATS THE WHOLE PURPOSE"
   ]
  },
  {
   "cell_type": "code",
   "execution_count": 11,
   "id": "92597124-cbd3-41a8-befa-0910df964eb9",
   "metadata": {},
   "outputs": [],
   "source": [
    "#BELOW IS A IMPLEMENTATION WITH NOISE ONLY DURING TRANSMISSION"
   ]
  },
  {
   "cell_type": "code",
   "execution_count": 12,
   "id": "3ba54e0b-53df-4748-aa96-27f912cf04f0",
   "metadata": {},
   "outputs": [
    {
     "data": {
      "text/plain": [
       "CircuitInstruction(operation=Instruction(name='barrier', num_qubits=3, num_clbits=0, params=[]), qubits=(Qubit(QuantumRegister(3, 'q'), 0), Qubit(QuantumRegister(3, 'q'), 1), Qubit(QuantumRegister(3, 'q'), 2)), clbits=())"
      ]
     },
     "execution_count": 12,
     "metadata": {},
     "output_type": "execute_result"
    }
   ],
   "source": [
    "q = QuantumRegister(3, 'q')\n",
    "encoding_circuit = QuantumCircuit(q)\n",
    "\n",
    "# Encode without any noise\n",
    "encoding_circuit.cx(q[0], q[1])\n",
    "encoding_circuit.cx(q[0], q[2])\n",
    "encoding_circuit.barrier()"
   ]
  },
  {
   "cell_type": "code",
   "execution_count": 13,
   "id": "6fb67c10-2bce-496d-939e-e579ce2d8981",
   "metadata": {},
   "outputs": [
    {
     "data": {
      "text/plain": [
       "CircuitInstruction(operation=Instruction(name='barrier', num_qubits=3, num_clbits=0, params=[]), qubits=(Qubit(QuantumRegister(3, 'q'), 0), Qubit(QuantumRegister(3, 'q'), 1), Qubit(QuantumRegister(3, 'q'), 2)), clbits=())"
      ]
     },
     "execution_count": 13,
     "metadata": {},
     "output_type": "execute_result"
    }
   ],
   "source": [
    "#use delay to simulate transmission\n",
    "noise_phase_circuit = QuantumCircuit(q)\n",
    "noise_phase_circuit.delay(100, q[0])\n",
    "noise_phase_circuit.delay(100, q[1])\n",
    "noise_phase_circuit.delay(100, q[2])\n",
    "noise_phase_circuit.barrier()"
   ]
  },
  {
   "cell_type": "code",
   "execution_count": 14,
   "id": "78dcb6c9-6408-4a1c-ad13-73a7dc94f3cf",
   "metadata": {},
   "outputs": [
    {
     "data": {
      "text/plain": [
       "CircuitInstruction(operation=Instruction(name='barrier', num_qubits=5, num_clbits=0, params=[]), qubits=(Qubit(QuantumRegister(3, 'q'), 0), Qubit(QuantumRegister(3, 'q'), 1), Qubit(QuantumRegister(3, 'q'), 2), Qubit(QuantumRegister(2, 'a'), 0), Qubit(QuantumRegister(2, 'a'), 1)), clbits=())"
      ]
     },
     "execution_count": 14,
     "metadata": {},
     "output_type": "execute_result"
    }
   ],
   "source": [
    "a = QuantumRegister(2, 'a')\n",
    "c = ClassicalRegister(3, 'c')\n",
    "correction_circuit = QuantumCircuit(q, a, c)\n",
    "\n",
    "\n",
    "\n",
    "#ancilla checking\n",
    "correction_circuit.cx(q[0],a[0])\n",
    "correction_circuit.cx(q[1],a[0])\n",
    "correction_circuit.cx(q[1],a[1])\n",
    "correction_circuit.cx(q[2],a[1])\n",
    "correction_circuit.barrier()\n",
    "\n",
    "#LOGICAL OPERATIONS FOR FLIPPING PROPER BIT\n",
    "\n",
    "#11\n",
    "#Q1=A2 AND A1\n",
    "correction_circuit.ccx(a[0],a[1],q[1])\n",
    "correction_circuit.barrier()\n",
    "\n",
    "#01\n",
    "#Q0=A0! AND A1\n",
    "correction_circuit.x(a[0])#not ca[0]\n",
    "correction_circuit.ccx(a[0],a[1],q[0])\n",
    "correction_circuit.barrier()\n",
    "\n",
    "#10\n",
    "#Q2=A0 && !A1\n",
    "correction_circuit.x(a[0])#ca[0]\n",
    "correction_circuit.x(a[1])#not ca[1]\n",
    "correction_circuit.ccx(a[0],a[1],q[2])\n",
    "correction_circuit.barrier()\n",
    "\n",
    "#decoding\n",
    "correction_circuit.cx(q2[1],q2[0])\n",
    "correction_circuit.cx(q2[2],q2[0])\n",
    "correction_circuit.barrier()\n"
   ]
  },
  {
   "cell_type": "code",
   "execution_count": 15,
   "id": "6b7abe32-953e-4af7-9c56-21190e4a4809",
   "metadata": {},
   "outputs": [
    {
     "data": {
      "text/html": [
       "<pre style=\"word-wrap: normal;white-space: pre;background: #fff0;line-height: 1.1;font-family: &quot;Courier New&quot;,Courier,monospace\">                ░ ┌────────────────┐ ░                      ░       ░      »\n",
       "q_0: ──■────■───░─┤ Delay(100[dt]) ├─░───■──────────────────░───────░──────»\n",
       "     ┌─┴─┐  │   ░ ├────────────────┤ ░   │                  ░ ┌───┐ ░      »\n",
       "q_1: ┤ X ├──┼───░─┤ Delay(100[dt]) ├─░───┼────■────■────────░─┤ X ├─░──────»\n",
       "     └───┘┌─┴─┐ ░ ├────────────────┤ ░   │    │    │        ░ └─┬─┘ ░      »\n",
       "q_2: ─────┤ X ├─░─┤ Delay(100[dt]) ├─░───┼────┼────┼────■───░───┼───░──────»\n",
       "          └───┘ ░ └────────────────┘ ░ ┌─┴─┐┌─┴─┐  │    │   ░   │   ░ ┌───┐»\n",
       "a_0: ──────────────────────────────────┤ X ├┤ X ├──┼────┼───░───■───░─┤ X ├»\n",
       "                                       └───┘└───┘┌─┴─┐┌─┴─┐ ░   │   ░ └───┘»\n",
       "a_1: ────────────────────────────────────────────┤ X ├┤ X ├─░───■───░──────»\n",
       "                                                 └───┘└───┘ ░       ░      »\n",
       "c: 3/══════════════════════════════════════════════════════════════════════»\n",
       "                                                                           »\n",
       "«     ┌───┐ ░            ░ ┌───┐┌───┐ ░ ┌─┐      \n",
       "«q_0: ┤ X ├─░────────────░─┤ X ├┤ X ├─░─┤M├──────\n",
       "«     └─┬─┘ ░            ░ └─┬─┘└─┬─┘ ░ └╥┘┌─┐   \n",
       "«q_1: ──┼───░────────────░───■────┼───░──╫─┤M├───\n",
       "«       │   ░      ┌───┐ ░        │   ░  ║ └╥┘┌─┐\n",
       "«q_2: ──┼───░──────┤ X ├─░────────■───░──╫──╫─┤M├\n",
       "«       │   ░ ┌───┐└─┬─┘ ░            ░  ║  ║ └╥┘\n",
       "«a_0: ──■───░─┤ X ├──■───░────────────░──╫──╫──╫─\n",
       "«       │   ░ ├───┤  │   ░            ░  ║  ║  ║ \n",
       "«a_1: ──■───░─┤ X ├──■───░────────────░──╫──╫──╫─\n",
       "«           ░ └───┘      ░            ░  ║  ║  ║ \n",
       "«c: 3/═══════════════════════════════════╩══╩══╩═\n",
       "«                                        0  1  2 </pre>"
      ],
      "text/plain": [
       "                ░ ┌────────────────┐ ░                      ░       ░      »\n",
       "q_0: ──■────■───░─┤ Delay(100[dt]) ├─░───■──────────────────░───────░──────»\n",
       "     ┌─┴─┐  │   ░ ├────────────────┤ ░   │                  ░ ┌───┐ ░      »\n",
       "q_1: ┤ X ├──┼───░─┤ Delay(100[dt]) ├─░───┼────■────■────────░─┤ X ├─░──────»\n",
       "     └───┘┌─┴─┐ ░ ├────────────────┤ ░   │    │    │        ░ └─┬─┘ ░      »\n",
       "q_2: ─────┤ X ├─░─┤ Delay(100[dt]) ├─░───┼────┼────┼────■───░───┼───░──────»\n",
       "          └───┘ ░ └────────────────┘ ░ ┌─┴─┐┌─┴─┐  │    │   ░   │   ░ ┌───┐»\n",
       "a_0: ──────────────────────────────────┤ X ├┤ X ├──┼────┼───░───■───░─┤ X ├»\n",
       "                                       └───┘└───┘┌─┴─┐┌─┴─┐ ░   │   ░ └───┘»\n",
       "a_1: ────────────────────────────────────────────┤ X ├┤ X ├─░───■───░──────»\n",
       "                                                 └───┘└───┘ ░       ░      »\n",
       "c: 3/══════════════════════════════════════════════════════════════════════»\n",
       "                                                                           »\n",
       "«     ┌───┐ ░            ░ ┌───┐┌───┐ ░ ┌─┐      \n",
       "«q_0: ┤ X ├─░────────────░─┤ X ├┤ X ├─░─┤M├──────\n",
       "«     └─┬─┘ ░            ░ └─┬─┘└─┬─┘ ░ └╥┘┌─┐   \n",
       "«q_1: ──┼───░────────────░───■────┼───░──╫─┤M├───\n",
       "«       │   ░      ┌───┐ ░        │   ░  ║ └╥┘┌─┐\n",
       "«q_2: ──┼───░──────┤ X ├─░────────■───░──╫──╫─┤M├\n",
       "«       │   ░ ┌───┐└─┬─┘ ░            ░  ║  ║ └╥┘\n",
       "«a_0: ──■───░─┤ X ├──■───░────────────░──╫──╫──╫─\n",
       "«       │   ░ ├───┤  │   ░            ░  ║  ║  ║ \n",
       "«a_1: ──■───░─┤ X ├──■───░────────────░──╫──╫──╫─\n",
       "«           ░ └───┘      ░            ░  ║  ║  ║ \n",
       "«c: 3/═══════════════════════════════════╩══╩══╩═\n",
       "«                                        0  1  2 "
      ]
     },
     "execution_count": 15,
     "metadata": {},
     "output_type": "execute_result"
    }
   ],
   "source": [
    "# Assuming all 3 circuits use the same QuantumRegister objects\n",
    "full_circuit = QuantumCircuit(q, c, a)  # same registers across all\n",
    "\n",
    "full_circuit.compose(encoding_circuit, inplace=True)\n",
    "full_circuit.compose(noise_phase_circuit, inplace=True)\n",
    "full_circuit.compose(correction_circuit, inplace=True)\n",
    "full_circuit.measure(q,c)\n",
    "\n",
    "full_circuit.draw()\n",
    "\n",
    "\n"
   ]
  },
  {
   "cell_type": "code",
   "execution_count": 16,
   "id": "ed69d8ea-a3b8-4bad-be21-8634f24667e2",
   "metadata": {},
   "outputs": [
    {
     "data": {
      "image/png": "[encoded data removed]",
      "text/plain": [
       "<Figure size 640x480 with 1 Axes>"
      ]
     },
     "execution_count": 16,
     "metadata": {},
     "output_type": "execute_result"
    }
   ],
   "source": [
    "#REDEFINE NOISE FOR IDENTITY GATES ONLY IE TRANSMISSION BETWEEN TWO USERS\n",
    "\n",
    "p_bitflip = 0.1  # or whatever rate you want for transmission noise\n",
    "\n",
    "#define a bit-flip noise model for the identity gate\n",
    "bitflip_error = pauli_error([\n",
    "    ('X', p_bitflip),         # bit-flip occurs\n",
    "    ('I', 1 - p_bitflip)      # no error\n",
    "])\n",
    "\n",
    "# Build the noise model\n",
    "noise_model2 = NoiseModel()\n",
    "noise_model2.add_all_qubit_quantum_error(bitflip_error, ['delay'])\n",
    "backend_noise2 = AerSimulator(method='density_matrix', noise_model=noise_model2)\n",
    "\n",
    "transpiled = transpile(full_circuit, backend=backend_noise2)\n",
    "result = backend_noise2.run(transpiled, shots=2048).result()\n",
    "counts = result.get_counts()\n",
    "marginalized = marginal_counts(counts, indices=[0,1,2])#remove ancilla values\n",
    "plot_histogram(marginalized)"
   ]
  },
  {
   "cell_type": "code",
   "execution_count": 17,
   "id": "1d769354-64b7-41ee-b610-b56b2922a534",
   "metadata": {},
   "outputs": [
    {
     "data": {
      "image/png": "[encoded data removed]",
      "text/plain": [
       "<Figure size 640x480 with 1 Axes>"
      ]
     },
     "execution_count": 17,
     "metadata": {},
     "output_type": "execute_result"
    }
   ],
   "source": [
    "marginalized = marginal_counts(counts, indices=[2])#remove ancilla values\n",
    "plot_histogram(marginalized)\n"
   ]
  },
  {
   "cell_type": "code",
   "execution_count": 19,
   "id": "06ca33a2-d227-4165-9063-670cc353652a",
   "metadata": {},
   "outputs": [
    {
     "name": "stdout",
     "output_type": "stream",
     "text": [
      "Chance of bitflip:  0.30000000000000004\n",
      "Ratio of correction:  1667 / 2048 :  81.396484375  percent\n"
     ]
    }
   ],
   "source": [
    "#3bits per run\n",
    "print(\"Chance of bitflip: \", 3*p_bitflip)\n",
    "correct = sum(v for k, v in counts.items() if k[0] == '0')\n",
    "incorrect = sum(v for k, v in counts.items() if k[0] == '1')\n",
    "\n",
    "print(\"Ratio of correction: \", correct, \"/\", (correct + incorrect), \": \",100* correct/(correct+incorrect), \" percent\")"
   ]
  },
  {
   "cell_type": "code",
   "execution_count": null,
   "id": "7db6e1f6-9d8f-41c5-9481-cb63962dbbc9",
   "metadata": {},
   "outputs": [],
   "source": []
  },
  {
   "cell_type": "code",
   "execution_count": null,
   "id": "2e5d2941-bdee-4cc3-a76b-29f7f2817de9",
   "metadata": {},
   "outputs": [],
   "source": []
  }
 ],
 "metadata": {
  "kernelspec": {
   "display_name": "Quantum Computing",
   "language": "python",
   "name": "quantum-computing"
  },
  "language_info": {
   "codemirror_mode": {
    "name": "ipython",
    "version": 3
   },
   "file_extension": ".py",
   "mimetype": "text/x-python",
   "name": "python",
   "nbconvert_exporter": "python",
   "pygments_lexer": "ipython3",
   "version": "3.9.14"
  }
 },
 "nbformat": 4,
 "nbformat_minor": 5
}
